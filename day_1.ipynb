{
  "nbformat": 4,
  "nbformat_minor": 0,
  "metadata": {
    "colab": {
      "provenance": []
    },
    "kernelspec": {
      "name": "python3",
      "display_name": "Python 3"
    },
    "language_info": {
      "name": "python"
    }
  },
  "cells": [
    {
      "cell_type": "code",
      "source": [
        "from google.colab import userdata\n",
        "key = userdata.get('robogebra-key')\n",
        "print(key)"
      ],
      "metadata": {
        "id": "Q9Fbriku-BqR",
        "outputId": "3afff15c-2590-4d88-ff87-c7b786a06d8d",
        "colab": {
          "base_uri": "https://localhost:8080/"
        }
      },
      "execution_count": 4,
      "outputs": [
        {
          "output_type": "stream",
          "name": "stdout",
          "text": [
            "123\n"
          ]
        }
      ]
    },
    {
      "cell_type": "code",
      "execution_count": null,
      "metadata": {
        "colab": {
          "base_uri": "https://localhost:8080/"
        },
        "id": "rNNPLHRSQalj",
        "outputId": "693e352c-5767-4eca-8e56-4cbe5842741d"
      },
      "outputs": [
        {
          "output_type": "stream",
          "name": "stdout",
          "text": [
            "80\n",
            "99\n"
          ]
        }
      ],
      "source": [
        "marks = [80,85,90,95,99,100]\n",
        "mark_1, mark_2, *mark_3 = marks\n",
        "print(mark_1)\n",
        "print(marks[-2])"
      ]
    },
    {
      "cell_type": "code",
      "source": [
        "mark_part_1 = marks[0:4]\n",
        "mark_part_2 = marks[4:]\n",
        "print(mark_part_1)\n"
      ],
      "metadata": {
        "colab": {
          "base_uri": "https://localhost:8080/"
        },
        "id": "kjFgAlouSsoH",
        "outputId": "11595b46-6b4d-4941-b40b-e2b95b995398"
      },
      "execution_count": null,
      "outputs": [
        {
          "output_type": "stream",
          "name": "stdout",
          "text": [
            "[80, 85, 90, 95]\n"
          ]
        }
      ]
    },
    {
      "cell_type": "code",
      "source": [
        "for mark in marks:\n",
        "    print(mark)\n"
      ],
      "metadata": {
        "colab": {
          "base_uri": "https://localhost:8080/"
        },
        "id": "loEo87M9TLd2",
        "outputId": "751ccfb6-3df9-464a-b3a3-994377504c60"
      },
      "execution_count": null,
      "outputs": [
        {
          "output_type": "stream",
          "name": "stdout",
          "text": [
            "80\n",
            "85\n",
            "90\n",
            "95\n",
            "99\n",
            "100\n"
          ]
        }
      ]
    },
    {
      "cell_type": "code",
      "source": [
        "for i in range(len(marks)):\n",
        "   print(marks[i])"
      ],
      "metadata": {
        "colab": {
          "base_uri": "https://localhost:8080/"
        },
        "id": "f5xLFlSGTtDr",
        "outputId": "672ced27-deef-4579-ff8b-0db07b8874ee"
      },
      "execution_count": null,
      "outputs": [
        {
          "output_type": "stream",
          "name": "stdout",
          "text": [
            "80\n",
            "85\n",
            "90\n",
            "95\n",
            "99\n",
            "100\n"
          ]
        }
      ]
    },
    {
      "cell_type": "code",
      "source": [
        "for i, mark in enumerate(marks):\n",
        "   print(i,mark)"
      ],
      "metadata": {
        "colab": {
          "base_uri": "https://localhost:8080/"
        },
        "id": "6jW1OHqpUQzA",
        "outputId": "cdb5943f-ed45-45ac-def1-6b94f43d3613"
      },
      "execution_count": null,
      "outputs": [
        {
          "output_type": "stream",
          "name": "stdout",
          "text": [
            "0 80\n",
            "1 85\n",
            "2 90\n",
            "3 95\n",
            "4 99\n",
            "5 100\n"
          ]
        }
      ]
    },
    {
      "cell_type": "code",
      "source": [
        "a = int(len(marks)/2)\n",
        "for i, mark in enumerate(marks[a:]):\n",
        "   print(i, mark)"
      ],
      "metadata": {
        "colab": {
          "base_uri": "https://localhost:8080/"
        },
        "id": "y3D3XZZyU0Et",
        "outputId": "b68ad338-a4ba-4340-942d-876dfd144a87"
      },
      "execution_count": null,
      "outputs": [
        {
          "output_type": "stream",
          "name": "stdout",
          "text": [
            "0 95\n",
            "1 99\n",
            "2 100\n"
          ]
        }
      ]
    },
    {
      "cell_type": "code",
      "source": [
        "simple_dic = {\"name\":\"james\", \"age\": 30, \"Job\": \"Engineer\"}\n",
        "print(simple_dic[\"name\"])\n"
      ],
      "metadata": {
        "colab": {
          "base_uri": "https://localhost:8080/"
        },
        "id": "24iTzC8mV4og",
        "outputId": "1f594cc6-1b60-47c6-bdd0-ca2a387d3751"
      },
      "execution_count": null,
      "outputs": [
        {
          "output_type": "stream",
          "name": "stdout",
          "text": [
            "james\n"
          ]
        }
      ]
    },
    {
      "cell_type": "code",
      "source": [
        "for prop, value in simple_dic.items():\n",
        "   print(prop,value)"
      ],
      "metadata": {
        "colab": {
          "base_uri": "https://localhost:8080/"
        },
        "id": "7YTT-TR0W5CX",
        "outputId": "15550a0a-c753-42e2-d9c8-d43d7a2c9a0d"
      },
      "execution_count": null,
      "outputs": [
        {
          "output_type": "stream",
          "name": "stdout",
          "text": [
            "name james\n",
            "age 30\n",
            "Job Engineer\n"
          ]
        }
      ]
    },
    {
      "cell_type": "code",
      "source": [
        "prop_names = [\"name\",\"age\",\"job\"]\n",
        "prop_values = [\"james\",30,\"Engineer\"]\n",
        "\n",
        "person = {}\n",
        "for k,v in zip(prop_names,prop_values):\n",
        "   person[k] = v\n",
        "\n",
        "print(person)"
      ],
      "metadata": {
        "colab": {
          "base_uri": "https://localhost:8080/"
        },
        "id": "i315NrsVXeCl",
        "outputId": "209fcb34-89eb-48cc-c4fd-f2be8925b8cd"
      },
      "execution_count": null,
      "outputs": [
        {
          "output_type": "stream",
          "name": "stdout",
          "text": [
            "{'name': 'james', 'age': 30, 'job': 'Engineer'}\n"
          ]
        }
      ]
    },
    {
      "cell_type": "code",
      "source": [
        "def show_detail(*values):\n",
        "   for value in values:\n",
        "     print(value)"
      ],
      "metadata": {
        "id": "cMnlPaQcY4Ur"
      },
      "execution_count": null,
      "outputs": []
    },
    {
      "cell_type": "code",
      "source": [
        "show_detail(10,20,30,40,50)"
      ],
      "metadata": {
        "colab": {
          "base_uri": "https://localhost:8080/"
        },
        "id": "IOFsUMo3ZAC9",
        "outputId": "8a61da35-c5b3-4182-8959-53eca219dfe9"
      },
      "execution_count": null,
      "outputs": [
        {
          "output_type": "stream",
          "name": "stdout",
          "text": [
            "10\n",
            "20\n",
            "30\n",
            "40\n",
            "50\n"
          ]
        }
      ]
    },
    {
      "cell_type": "code",
      "source": [
        "def show_summary(a,b,c,d,e):\n",
        "   print(a)\n",
        "   print(b)\n",
        "   print(c)\n",
        "   print(d)\n",
        "   print(e)"
      ],
      "metadata": {
        "id": "vx3WalZKZfML"
      },
      "execution_count": null,
      "outputs": []
    },
    {
      "cell_type": "code",
      "source": [
        "show_summary(*[20,30,40,50,60])"
      ],
      "metadata": {
        "colab": {
          "base_uri": "https://localhost:8080/"
        },
        "id": "pWLbi9W9Zx74",
        "outputId": "7ab1f55a-d84c-4b88-afb9-1eac59c2698c"
      },
      "execution_count": null,
      "outputs": [
        {
          "output_type": "stream",
          "name": "stdout",
          "text": [
            "20\n",
            "30\n",
            "40\n",
            "50\n",
            "60\n"
          ]
        }
      ]
    },
    {
      "cell_type": "code",
      "source": [
        "def explain_details(*args, **kwarg):\n",
        "    print(kwarg['name'])\n",
        "    print(kwarg['age'])\n",
        "    print(kwarg['gender'])\n"
      ],
      "metadata": {
        "id": "SHA3SaKbBVsI"
      },
      "execution_count": 10,
      "outputs": []
    },
    {
      "cell_type": "code",
      "source": [
        "explain_details(2,3,4, name='a', gender='F', age=20)"
      ],
      "metadata": {
        "id": "cvgoGcGHBivL",
        "outputId": "30d8d147-4bda-4837-ce71-91e7e21645ac",
        "colab": {
          "base_uri": "https://localhost:8080/"
        }
      },
      "execution_count": 11,
      "outputs": [
        {
          "output_type": "stream",
          "name": "stdout",
          "text": [
            "a\n",
            "20\n",
            "F\n"
          ]
        }
      ]
    }
  ]
}